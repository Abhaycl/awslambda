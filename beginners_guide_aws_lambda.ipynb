{
  "nbformat": 4,
  "nbformat_minor": 0,
  "metadata": {
    "colab": {
      "name": "beginners_guide_aws_lambda.ipynb",
      "version": "0.3.2",
      "provenance": [],
      "collapsed_sections": [
        "bq4VmHjPpMOR",
        "h1bBAwtru13k",
        "XFiO53b7vDpW",
        "PlhZmj8Sk-t0",
        "8ZvS58PAmbKQ",
        "AswOTOWqGr2o",
        "K9rXgtFXKTCN",
        "GDVXFfrnVypD",
        "MNhWEc22cn4o",
        "FZFaResjwAP_",
        "rKXgIaJzsTzC",
        "INrZ6YMcwFxp",
        "6fl3b_w6wJJM",
        "awt-CAP5wNOF",
        "_iIu63uesj5R",
        "DHqZDYOmsj8G",
        "EzwngIdr2kk2",
        "ckRibEoh2n0q",
        "pRZ65E8ffePo",
        "RRw5rUM2f1rv"
      ],
      "include_colab_link": true
    },
    "kernelspec": {
      "name": "python3",
      "display_name": "Python 3"
    }
  },
  "cells": [
    {
      "cell_type": "markdown",
      "metadata": {
        "id": "view-in-github",
        "colab_type": "text"
      },
      "source": [
        "<a href=\"https://colab.research.google.com/github/noahgift/awslambda/blob/master/beginners_guide_aws_lambda.ipynb\" target=\"_parent\"><img src=\"https://colab.research.google.com/assets/colab-badge.svg\" alt=\"Open In Colab\"/></a>"
      ]
    },
    {
      "metadata": {
        "id": "FuRVxRwNru_Y",
        "colab_type": "text"
      },
      "cell_type": "markdown",
      "source": [
        "# Beginner's Guide to Writing AWS Lambda Functions in Python"
      ]
    },
    {
      "metadata": {
        "id": "c_Id55m6Jsbu",
        "colab_type": "text"
      },
      "cell_type": "markdown",
      "source": [
        "### Pragmatic AI Labs\n",
        "\n"
      ]
    },
    {
      "metadata": {
        "id": "e5p96AqpSDZa",
        "colab_type": "text"
      },
      "cell_type": "markdown",
      "source": [
        "![alt text](https://paiml.com/images/logo_with_slogan_white_background.png)\n",
        "\n",
        "This notebook was produced by [Pragmatic AI Labs](https://paiml.com/).  You can continue learning about these topics by:\n",
        "\n",
        "*   Buying a copy of [Pragmatic AI: An Introduction to Cloud-Based Machine Learning](http://www.informit.com/store/pragmatic-ai-an-introduction-to-cloud-based-machine-9780134863917)\n",
        "*   Reading an online copy of [Pragmatic AI:Pragmatic AI: An Introduction to Cloud-Based Machine Learning](https://www.safaribooksonline.com/library/view/pragmatic-ai-an/9780134863924/)\n",
        "*  Watching video [Essential Machine Learning and AI with Python and Jupyter Notebook-Video-SafariOnline](https://www.safaribooksonline.com/videos/essential-machine-learning/9780135261118) on Safari Books Online.\n",
        "* Watching video [AWS Certified Machine Learning-Speciality](https://learning.oreilly.com/videos/aws-certified-machine/9780135556597)\n",
        "* Purchasing video [Essential Machine Learning and AI with Python and Jupyter Notebook- Purchase Video](http://www.informit.com/store/essential-machine-learning-and-ai-with-python-and-jupyter-9780135261095)\n",
        "*   Viewing more content at [noahgift.com](https://noahgift.com/)\n"
      ]
    },
    {
      "metadata": {
        "id": "bq4VmHjPpMOR",
        "colab_type": "text"
      },
      "cell_type": "markdown",
      "source": [
        "### Load AWS API Keys (Colab Notebook)"
      ]
    },
    {
      "metadata": {
        "id": "aWrzIk7WpRoh",
        "colab_type": "text"
      },
      "cell_type": "markdown",
      "source": [
        "Put keys in local or remote GDrive:  \n",
        "\n",
        "`cp ~/.aws/credentials /Users/myname/Google\\ Drive/awsml/`"
      ]
    },
    {
      "metadata": {
        "id": "hPWO_zyRopXN",
        "colab_type": "text"
      },
      "cell_type": "markdown",
      "source": [
        "#### Mount GDrive\n"
      ]
    },
    {
      "metadata": {
        "id": "XI73HZNLobp4",
        "colab_type": "code",
        "outputId": "af9b724d-7284-49c3-d3bd-0203a7215a44",
        "colab": {
          "base_uri": "https://localhost:8080/",
          "height": 123
        }
      },
      "cell_type": "code",
      "source": [
        "from google.colab import drive\n",
        "drive.mount('/content/gdrive', force_remount=True)"
      ],
      "execution_count": 0,
      "outputs": [
        {
          "output_type": "stream",
          "text": [
            "Go to this URL in a browser: https://accounts.google.com/o/oauth2/auth?client_id=947318989803-6bn6qk8qdgf4n4g3pfee6491hc0brc4i.apps.googleusercontent.com&redirect_uri=urn%3Aietf%3Awg%3Aoauth%3A2.0%3Aoob&scope=email%20https%3A%2F%2Fwww.googleapis.com%2Fauth%2Fdocs.test%20https%3A%2F%2Fwww.googleapis.com%2Fauth%2Fdrive%20https%3A%2F%2Fwww.googleapis.com%2Fauth%2Fdrive.photos.readonly%20https%3A%2F%2Fwww.googleapis.com%2Fauth%2Fpeopleapi.readonly&response_type=code\n",
            "\n",
            "Enter your authorization code:\n",
            "··········\n",
            "Mounted at /content/gdrive\n"
          ],
          "name": "stdout"
        }
      ]
    },
    {
      "metadata": {
        "id": "UNyzZwgmoxwm",
        "colab_type": "code",
        "outputId": "c305b89a-5e43-4f1f-f0af-2ab603dfd970",
        "colab": {
          "base_uri": "https://localhost:8080/",
          "height": 34
        }
      },
      "cell_type": "code",
      "source": [
        "import os;os.listdir(\"/content/gdrive/My Drive/awsml\")"
      ],
      "execution_count": 0,
      "outputs": [
        {
          "output_type": "execute_result",
          "data": {
            "text/plain": [
              "['kaggle.json', 'credentials', 'config']"
            ]
          },
          "metadata": {
            "tags": []
          },
          "execution_count": 6
        }
      ]
    },
    {
      "metadata": {
        "id": "fYu0ekUlqPk6",
        "colab_type": "text"
      },
      "cell_type": "markdown",
      "source": [
        "#### Install Boto"
      ]
    },
    {
      "metadata": {
        "id": "dJDDrUkWrYRY",
        "colab_type": "code",
        "colab": {}
      },
      "cell_type": "code",
      "source": [
        "!pip -q install boto3\n"
      ],
      "execution_count": 0,
      "outputs": []
    },
    {
      "metadata": {
        "id": "FpJhrpSQsK5E",
        "colab_type": "text"
      },
      "cell_type": "markdown",
      "source": [
        "#### Create API Config"
      ]
    },
    {
      "metadata": {
        "id": "QxRwGOZtsN0-",
        "colab_type": "code",
        "colab": {}
      },
      "cell_type": "code",
      "source": [
        "!mkdir -p ~/.aws &&\\\n",
        "  cp /content/gdrive/My\\ Drive/awsml/credentials ~/.aws/credentials "
      ],
      "execution_count": 0,
      "outputs": []
    },
    {
      "metadata": {
        "id": "Kj977UW3rph_",
        "colab_type": "text"
      },
      "cell_type": "markdown",
      "source": [
        "#### Test Comprehend API Call"
      ]
    },
    {
      "metadata": {
        "id": "P-A8Cia-raT0",
        "colab_type": "code",
        "outputId": "198fe3eb-ea5c-4698-e73c-7038c28c67a3",
        "colab": {
          "base_uri": "https://localhost:8080/",
          "height": 240
        }
      },
      "cell_type": "code",
      "source": [
        "import boto3\n",
        "comprehend = boto3.client(service_name='comprehend', region_name=\"us-east-1\")\n",
        "text = \"There is smoke in San Francisco and it makes me angry\"\n",
        "comprehend.detect_sentiment(Text=text, LanguageCode='en')"
      ],
      "execution_count": 0,
      "outputs": [
        {
          "output_type": "execute_result",
          "data": {
            "text/plain": [
              "{'ResponseMetadata': {'HTTPHeaders': {'connection': 'keep-alive',\n",
              "   'content-length': '164',\n",
              "   'content-type': 'application/x-amz-json-1.1',\n",
              "   'date': 'Wed, 09 Jan 2019 03:16:52 GMT',\n",
              "   'x-amzn-requestid': '02748c54-13bd-11e9-9d75-77c414a099ee'},\n",
              "  'HTTPStatusCode': 200,\n",
              "  'RequestId': '02748c54-13bd-11e9-9d75-77c414a099ee',\n",
              "  'RetryAttempts': 0},\n",
              " u'Sentiment': u'NEGATIVE',\n",
              " u'SentimentScore': {u'Mixed': 0.010819978080689907,\n",
              "  u'Negative': 0.9212133288383484,\n",
              "  u'Neutral': 0.06721948087215424,\n",
              "  u'Positive': 0.0007472822326235473}}"
            ]
          },
          "metadata": {
            "tags": []
          },
          "execution_count": 10
        }
      ]
    },
    {
      "metadata": {
        "id": "w7PAcvcVsTvs",
        "colab_type": "text"
      },
      "cell_type": "markdown",
      "source": [
        "## Using Cloud9 to Develop Python Lambda Functions"
      ]
    },
    {
      "metadata": {
        "id": "hs0QBX6ewU5e",
        "colab_type": "text"
      },
      "cell_type": "markdown",
      "source": [
        "* [Watch AWS ML Video Lesson 7.5 Cloud9](https://learning.oreilly.com/videos/aws-certified-machine/9780135556597/9780135556597-ACML_01_07_05)\n",
        "\n",
        "![Cloud9](https://user-images.githubusercontent.com/58792/50839709-bac19300-1315-11e9-9383-8e2e76bc9759.png)"
      ]
    },
    {
      "metadata": {
        "id": "h1bBAwtru13k",
        "colab_type": "text"
      },
      "cell_type": "markdown",
      "source": [
        "### Developing with Cloud9"
      ]
    },
    {
      "metadata": {
        "id": "XFiO53b7vDpW",
        "colab_type": "text"
      },
      "cell_type": "markdown",
      "source": [
        "#### Creating a Hello World Lambda Function"
      ]
    },
    {
      "metadata": {
        "id": "8X8RW6RpV73S",
        "colab_type": "text"
      },
      "cell_type": "markdown",
      "source": [
        "##### Creating Lambda Function from AWS console"
      ]
    },
    {
      "metadata": {
        "id": "PLzerLsolbk2",
        "colab_type": "text"
      },
      "cell_type": "markdown",
      "source": [
        ""
      ]
    },
    {
      "metadata": {
        "id": "PlhZmj8Sk-t0",
        "colab_type": "text"
      },
      "cell_type": "markdown",
      "source": [
        "#### Setup Steps"
      ]
    },
    {
      "metadata": {
        "id": "pfjYcMIqu8vh",
        "colab_type": "text"
      },
      "cell_type": "markdown",
      "source": [
        "*   [IAM User + Admin group](https://docs.aws.amazon.com/cloud9/latest/user-guide/setup-express.html)\n",
        "*   [Creating EC2 AWS Cloud9 development environment](https://docs.aws.amazon.com/cloud9/latest/user-guide/create-environment.html)\n",
        "\n",
        "![New Cloud9](https://user-images.githubusercontent.com/58792/53501005-4fb45300-3a60-11e9-9353-6d9a76ddbf53.png)\n",
        "\n"
      ]
    },
    {
      "metadata": {
        "id": "8ZvS58PAmbKQ",
        "colab_type": "text"
      },
      "cell_type": "markdown",
      "source": [
        "#### Creating Environment"
      ]
    },
    {
      "metadata": {
        "id": "tBUnzsfPm1YM",
        "colab_type": "text"
      },
      "cell_type": "markdown",
      "source": [
        "\n",
        "\n",
        "![env cloud9](https://user-images.githubusercontent.com/58792/53502242-855a3b80-3a62-11e9-854a-9b2a8ebc6b24.png)\n",
        "\n",
        "\n",
        "\n"
      ]
    },
    {
      "metadata": {
        "id": "bq_oe5Gru84K",
        "colab_type": "text"
      },
      "cell_type": "markdown",
      "source": [
        "### Launching Cloud9 and Workspace Configuration"
      ]
    },
    {
      "metadata": {
        "id": "zpOlnzyZvBOl",
        "colab_type": "text"
      },
      "cell_type": "markdown",
      "source": [
        "#### Configuring Workspace"
      ]
    },
    {
      "metadata": {
        "id": "IgJO70pIlSZL",
        "colab_type": "text"
      },
      "cell_type": "markdown",
      "source": [
        "##### Getting Data Into Cloud9"
      ]
    },
    {
      "metadata": {
        "id": "NMRJkBx5DXwZ",
        "colab_type": "text"
      },
      "cell_type": "markdown",
      "source": [
        "\n",
        "\n",
        "*   Creating source code files\n",
        "*   Uploading files\n",
        "*   [Cloning from Github](https://docs.aws.amazon.com/cloud9/latest/user-guide/sample-github.html#sample-github-clone-repo)\n",
        "\n",
        "![git clone](https://user-images.githubusercontent.com/58792/53518359-b5ff9c80-3a85-11e9-91a1-0b312b6216db.png)\n",
        "\n"
      ]
    },
    {
      "metadata": {
        "colab_type": "text",
        "id": "AswOTOWqGr2o"
      },
      "cell_type": "markdown",
      "source": [
        "##### Changing Project Settings"
      ]
    },
    {
      "metadata": {
        "colab_type": "text",
        "id": "PpY0A_w1Gr2p"
      },
      "cell_type": "markdown",
      "source": [
        "*   Changing Python support\n",
        "\n",
        "![python3](https://user-images.githubusercontent.com/58792/53511931-59e14c00-3a76-11e9-9be1-0cc033873ded.png)\n",
        "\n",
        "\n"
      ]
    },
    {
      "metadata": {
        "id": "K9rXgtFXKTCN",
        "colab_type": "text"
      },
      "cell_type": "markdown",
      "source": [
        "##### Menu"
      ]
    },
    {
      "metadata": {
        "id": "MgETt_DTVbrG",
        "colab_type": "text"
      },
      "cell_type": "markdown",
      "source": [
        "[Menu reference](https://docs.aws.amazon.com/cloud9/latest/user-guide/menu-commands.html)\n",
        "\n",
        "![menu](https://user-images.githubusercontent.com/58792/53515534-0b847b00-3a7f-11e9-87db-b1e7968b4bf2.png)"
      ]
    },
    {
      "metadata": {
        "id": "GDVXFfrnVypD",
        "colab_type": "text"
      },
      "cell_type": "markdown",
      "source": [
        "##### Collaborate, Outline, AWS Resources and Debugger"
      ]
    },
    {
      "metadata": {
        "id": "qohwG2xqZz4N",
        "colab_type": "text"
      },
      "cell_type": "markdown",
      "source": [
        "[Outline window reference](https://docs.aws.amazon.com/cloud9/latest/user-guide/tutorial.html#tutorial-gutter)\n",
        "\n",
        "![local_functions](https://user-images.githubusercontent.com/58792/53516957-62d81a80-3a82-11e9-9f47-5d4da86982c5.png)"
      ]
    },
    {
      "metadata": {
        "id": "MNhWEc22cn4o",
        "colab_type": "text"
      },
      "cell_type": "markdown",
      "source": [
        "##### Share environment via IAM"
      ]
    },
    {
      "metadata": {
        "id": "jE4J8tMqczbL",
        "colab_type": "text"
      },
      "cell_type": "markdown",
      "source": [
        "[Shared environment reference](https://docs.aws.amazon.com/cloud9/latest/user-guide/share-environment.html)\n",
        "\n",
        "![Share environment](https://user-images.githubusercontent.com/58792/53517514-a8e1ae00-3a83-11e9-91b0-cfc2ee114076.png)"
      ]
    },
    {
      "metadata": {
        "id": "XCWmEIOUvBSG",
        "colab_type": "text"
      },
      "cell_type": "markdown",
      "source": [
        "### Creating and Deploying Lambda functions"
      ]
    },
    {
      "metadata": {
        "id": "51Be_ddFlTLx",
        "colab_type": "text"
      },
      "cell_type": "markdown",
      "source": [
        "* [Running a lambda local\n",
        "](https://docs.aws.amazon.com/cloud9/latest/user-guide/lambda-functions.html#lambda-functions-import)\n",
        "\n",
        "![run local](https://user-images.githubusercontent.com/58792/53529625-0be23d80-3aa2-11e9-8218-855da7a0b288.png)"
      ]
    },
    {
      "metadata": {
        "id": "W9irbK4UvDvq",
        "colab_type": "text"
      },
      "cell_type": "markdown",
      "source": [
        "### Importing Lambda functions"
      ]
    },
    {
      "metadata": {
        "id": "3yj7sJxBvGB7",
        "colab_type": "text"
      },
      "cell_type": "markdown",
      "source": [
        "* [Importing a Lambda function](https://docs.aws.amazon.com/cloud9/latest/user-guide/lambda-functions.html#lambda-functions-import)\n",
        "\n",
        "![importing lambda](https://user-images.githubusercontent.com/58792/53524070-56a88900-3a93-11e9-9c24-7158cbe59abb.png)"
      ]
    },
    {
      "metadata": {
        "id": "FZFaResjwAP_",
        "colab_type": "text"
      },
      "cell_type": "markdown",
      "source": [
        "### Invoking Lambda function inside API Gateway"
      ]
    },
    {
      "metadata": {
        "id": "F62rE6HwwEO2",
        "colab_type": "text"
      },
      "cell_type": "markdown",
      "source": [
        ""
      ]
    },
    {
      "metadata": {
        "id": "rKXgIaJzsTzC",
        "colab_type": "text"
      },
      "cell_type": "markdown",
      "source": [
        "## Creating Timed Lambdas"
      ]
    },
    {
      "metadata": {
        "id": "f5q92RvosT_D",
        "colab_type": "text"
      },
      "cell_type": "markdown",
      "source": [
        ""
      ]
    },
    {
      "metadata": {
        "id": "INrZ6YMcwFxp",
        "colab_type": "text"
      },
      "cell_type": "markdown",
      "source": [
        "### Using AWS Lambda with Cloudwatch Events"
      ]
    },
    {
      "metadata": {
        "id": "Fo7rh-wkwJGO",
        "colab_type": "text"
      },
      "cell_type": "markdown",
      "source": [
        ""
      ]
    },
    {
      "metadata": {
        "id": "6fl3b_w6wJJM",
        "colab_type": "text"
      },
      "cell_type": "markdown",
      "source": [
        "### Using AWS Lambda to populate AWS SQS (Simple Queuing Service)"
      ]
    },
    {
      "metadata": {
        "id": "tOqVcZTbwLZg",
        "colab_type": "text"
      },
      "cell_type": "markdown",
      "source": [
        ""
      ]
    },
    {
      "metadata": {
        "id": "awt-CAP5wNOF",
        "colab_type": "text"
      },
      "cell_type": "markdown",
      "source": [
        "### Using AWS Cloudwatch logging with AWS Lambda"
      ]
    },
    {
      "metadata": {
        "id": "AYCfPjkGwNRB",
        "colab_type": "text"
      },
      "cell_type": "markdown",
      "source": [
        ""
      ]
    },
    {
      "metadata": {
        "id": "_iIu63uesj5R",
        "colab_type": "text"
      },
      "cell_type": "markdown",
      "source": [
        "## Creating Event Driven Lambdas"
      ]
    },
    {
      "metadata": {
        "id": "DHqZDYOmsj8G",
        "colab_type": "text"
      },
      "cell_type": "markdown",
      "source": [
        "### Triggering AWS Lambda with AWS SQS Events"
      ]
    },
    {
      "metadata": {
        "id": "nohx7lBy2khs",
        "colab_type": "text"
      },
      "cell_type": "markdown",
      "source": [
        ""
      ]
    },
    {
      "metadata": {
        "id": "EzwngIdr2kk2",
        "colab_type": "text"
      },
      "cell_type": "markdown",
      "source": [
        "### Reading AWS SQS Events from AWS Lambda"
      ]
    },
    {
      "metadata": {
        "id": "8hvf6Vc62ns3",
        "colab_type": "text"
      },
      "cell_type": "markdown",
      "source": [
        ""
      ]
    },
    {
      "metadata": {
        "id": "ckRibEoh2n0q",
        "colab_type": "text"
      },
      "cell_type": "markdown",
      "source": [
        "### Writing results to AWS DynamoDB"
      ]
    },
    {
      "metadata": {
        "id": "dpIE4sgc2tZi",
        "colab_type": "text"
      },
      "cell_type": "markdown",
      "source": [
        ""
      ]
    },
    {
      "metadata": {
        "id": "pRZ65E8ffePo",
        "colab_type": "text"
      },
      "cell_type": "markdown",
      "source": [
        "## Homework"
      ]
    },
    {
      "metadata": {
        "id": "Oo727-tzfg-R",
        "colab_type": "text"
      },
      "cell_type": "markdown",
      "source": [
        ""
      ]
    },
    {
      "metadata": {
        "id": "RRw5rUM2f1rv",
        "colab_type": "text"
      },
      "cell_type": "markdown",
      "source": [
        "## FAQ"
      ]
    },
    {
      "metadata": {
        "id": "WC3z1ogqf92H",
        "colab_type": "text"
      },
      "cell_type": "markdown",
      "source": [
        ""
      ]
    }
  ]
}